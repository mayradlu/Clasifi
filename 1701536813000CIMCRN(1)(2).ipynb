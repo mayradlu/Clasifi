{
  "cells": [
    {
      "cell_type": "markdown",
      "metadata": {
        "id": "WiBiCrQreB-x"
      },
      "source": [
        "\n",
        "\n",
        "\n",
        "# **Clasificación de imágenes con métodos clásicos y redes neuronales**"
      ]
    },
    {
      "cell_type": "markdown",
      "metadata": {
        "id": "2RYPWvx8Hh8w"
      },
      "source": [
        "\n",
        "\n",
        "*   Raúl Alejandro Pérez Saucedo A01566937\n",
        "*   Laura Merarí Valdivia Frausto A01641790\n",
        "*   Francisco Javier Chávez Ochoa A01641644\n",
        "*   Mayra Sarahí de Luna Castillo A01635774"
      ]
    },
    {
      "cell_type": "code",
      "execution_count": null,
      "metadata": {
        "id": "ax4tEiS2d6qc"
      },
      "outputs": [],
      "source": [
        "import numpy as np\n",
        "import matplotlib.pyplot as plt\n",
        "\n",
        "from sklearn.model_selection import train_test_split, cross_val_score\n",
        "from sklearn.svm import SVC\n",
        "from sklearn.metrics import accuracy_score, recall_score\n",
        "from keras.models import Sequential\n",
        "from keras.layers import Dense\n",
        "from keras.utils import to_categorical\n",
        "from sklearn.neural_network import MLPClassifier\n",
        "\n",
        "from skimage import io\n",
        "from skimage.transform import resize\n",
        "from skimage.feature import graycomatrix, graycoprops\n",
        "from skimage.color import rgb2gray\n",
        "from skimage import img_as_ubyte\n",
        "from sklearn.model_selection import cross_val_predict, StratifiedKFold\n",
        "\n",
        "import pickle\n",
        "from os import listdir\n",
        "from os.path import isfile, join"
      ]
    },
    {
      "cell_type": "code",
      "execution_count": null,
      "metadata": {
        "id": "yoe-sDW2gBsn"
      },
      "outputs": [],
      "source": [
        "from keras.datasets import fashion_mnist\n",
        "(x_train, y_train), (x_test, y_test) = fashion_mnist.load_data()\n",
        "x_train = x_train.astype('float32') / 255.0\n",
        "x_test = x_test.astype('float32') / 255.0"
      ]
    },
    {
      "cell_type": "markdown",
      "metadata": {
        "id": "EfOS5IaOi8t5"
      },
      "source": [
        "# Fashion-MNIST"
      ]
    },
    {
      "cell_type": "markdown",
      "metadata": {
        "id": "pBGv_epujDCa"
      },
      "source": [
        "### Modelo lineal"
      ]
    },
    {
      "cell_type": "code",
      "execution_count": null,
      "metadata": {
        "id": "R4kyR5jYhPNa",
        "colab": {
          "base_uri": "https://localhost:8080/"
        },
        "outputId": "c5a5c937-05a5-4cb4-a30d-6942a3557240"
      },
      "outputs": [
        {
          "output_type": "stream",
          "name": "stdout",
          "text": [
            "Accuracy del modelo lineal SVM: 0.8463\n",
            "Recall para la clase 0: 0.815\n",
            "Recall para la clase 1: 0.962\n",
            "Recall para la clase 2: 0.769\n",
            "Recall para la clase 3: 0.842\n",
            "Recall para la clase 4: 0.773\n",
            "Recall para la clase 5: 0.936\n",
            "Recall para la clase 6: 0.562\n",
            "Recall para la clase 7: 0.934\n",
            "Recall para la clase 8: 0.925\n",
            "Recall para la clase 9: 0.945\n"
          ]
        }
      ],
      "source": [
        "x_train_flat = x_train.reshape(x_train.shape[0], -1)\n",
        "x_test_flat = x_test.reshape(x_test.shape[0], -1)\n",
        "\n",
        "linear_svm = SVC(kernel='linear')\n",
        "linear_svm.fit(x_train_flat, y_train)\n",
        "\n",
        "y_pred_svm_linear = linear_svm.predict(x_test_flat)\n",
        "\n",
        "accuracy_linear = accuracy_score(y_test, y_pred_svm_linear)\n",
        "recall_per_class = recall_score(y_test, y_pred_svm_linear, average=None)\n",
        "\n",
        "print(\"Accuracy del modelo lineal SVM:\", accuracy_linear)\n",
        "for class_idx, recall in enumerate(recall_per_class):\n",
        "    print(f\"Recall para la clase {class_idx}: {recall}\")"
      ]
    },
    {
      "cell_type": "markdown",
      "metadata": {
        "id": "oQzjSWA5jIhy"
      },
      "source": [
        "### Modelo no lineal"
      ]
    },
    {
      "cell_type": "code",
      "execution_count": null,
      "metadata": {
        "colab": {
          "base_uri": "https://localhost:8080/"
        },
        "id": "CYOPRxQfi6vB",
        "outputId": "52ec0c3a-90c6-4311-e618-f2d68e6f9a57"
      },
      "outputs": [
        {
          "output_type": "stream",
          "name": "stdout",
          "text": [
            "Accuracy del modelo no lineal: 0.8829\n",
            "Recall para la clase 0: 0.857\n",
            "Recall para la clase 1: 0.962\n",
            "Recall para la clase 2: 0.816\n",
            "Recall para la clase 3: 0.89\n",
            "Recall para la clase 4: 0.815\n",
            "Recall para la clase 5: 0.951\n",
            "Recall para la clase 6: 0.655\n",
            "Recall para la clase 7: 0.955\n",
            "Recall para la clase 8: 0.977\n",
            "Recall para la clase 9: 0.951\n"
          ]
        }
      ],
      "source": [
        "rbf_svm = SVC(kernel='rbf')\n",
        "rbf_svm.fit(x_train_flat, y_train)\n",
        "\n",
        "y_pred_svm_rbf = rbf_svm.predict(x_test_flat)\n",
        "\n",
        "accuracy_rbf = accuracy_score(y_test, y_pred_svm_rbf)\n",
        "recall_per_class = recall_score(y_test, y_pred_svm_rbf, average=None)\n",
        "\n",
        "print(\"Accuracy del modelo no lineal:\", accuracy_rbf)\n",
        "for class_idx, recall in enumerate(recall_per_class):\n",
        "    print(f\"Recall para la clase {class_idx}: {recall}\")"
      ]
    },
    {
      "cell_type": "markdown",
      "metadata": {
        "id": "AkWbHABQjUsY"
      },
      "source": [
        "### Modelo perceptrón multicapa"
      ]
    },
    {
      "cell_type": "code",
      "execution_count": null,
      "metadata": {
        "colab": {
          "base_uri": "https://localhost:8080/"
        },
        "id": "oKap7mErDRgb",
        "outputId": "f0885c4c-4074-4963-94fe-9fabb1b9fa60"
      },
      "outputs": [
        {
          "metadata": {
            "tags": null
          },
          "name": "stderr",
          "output_type": "stream",
          "text": [
            "/usr/local/lib/python3.10/dist-packages/sklearn/neural_network/_multilayer_perceptron.py:686: ConvergenceWarning: Stochastic Optimizer: Maximum iterations (200) reached and the optimization hasn't converged yet.\n",
            "  warnings.warn(\n"
          ]
        },
        {
          "metadata": {
            "tags": null
          },
          "name": "stdout",
          "output_type": "stream",
          "text": [
            "Configuración (50,): Accuracy en test = 0.8719\n"
          ]
        },
        {
          "metadata": {
            "tags": null
          },
          "name": "stderr",
          "output_type": "stream",
          "text": [
            "/usr/local/lib/python3.10/dist-packages/sklearn/neural_network/_multilayer_perceptron.py:686: ConvergenceWarning: Stochastic Optimizer: Maximum iterations (200) reached and the optimization hasn't converged yet.\n",
            "  warnings.warn(\n"
          ]
        },
        {
          "metadata": {
            "tags": null
          },
          "name": "stdout",
          "output_type": "stream",
          "text": [
            "Configuración (100,): Accuracy en test = 0.8848\n"
          ]
        },
        {
          "metadata": {
            "tags": null
          },
          "name": "stderr",
          "output_type": "stream",
          "text": [
            "/usr/local/lib/python3.10/dist-packages/sklearn/neural_network/_multilayer_perceptron.py:686: ConvergenceWarning: Stochastic Optimizer: Maximum iterations (200) reached and the optimization hasn't converged yet.\n",
            "  warnings.warn(\n"
          ]
        },
        {
          "output_type": "stream",
          "name": "stdout",
          "text": [
            "Configuración (50, 50): Accuracy en test = 0.8733\n",
            "Configuración (100, 50): Accuracy en test = 0.8834\n",
            "Configuración (100, 100): Accuracy en test = 0.8839\n",
            "Mejor configuración de capas y neuronas: (100,)\n",
            "Accuracy: 0.8848\n",
            "Recall para la clase 0: 0.835\n",
            "Recall para la clase 1: 0.968\n",
            "Recall para la clase 2: 0.842\n",
            "Recall para la clase 3: 0.89\n",
            "Recall para la clase 4: 0.818\n",
            "Recall para la clase 5: 0.951\n",
            "Recall para la clase 6: 0.666\n",
            "Recall para la clase 7: 0.967\n",
            "Recall para la clase 8: 0.96\n",
            "Recall para la clase 9: 0.951\n"
          ]
        },
        {
          "output_type": "stream",
          "name": "stderr",
          "text": [
            "/usr/local/lib/python3.10/dist-packages/sklearn/neural_network/_multilayer_perceptron.py:686: ConvergenceWarning: Stochastic Optimizer: Maximum iterations (200) reached and the optimization hasn't converged yet.\n",
            "  warnings.warn(\n"
          ]
        }
      ],
      "source": [
        "hidden_layer_sizes_options = [(50,), (100,), (50, 50), (100, 50), (100, 100)]\n",
        "\n",
        "best_accuracy = 0\n",
        "best_config = None\n",
        "\n",
        "for hidden_layer_config in hidden_layer_sizes_options:\n",
        "    mlp = MLPClassifier(hidden_layer_sizes=hidden_layer_config, max_iter=200, random_state=42)\n",
        "    mlp.fit(x_train_flat, y_train)\n",
        "\n",
        "    y_pred_test = mlp.predict(x_test_flat)\n",
        "    accuracy = accuracy_score(y_test, y_pred_test)\n",
        "\n",
        "    print(f\"Configuración {hidden_layer_config}: Accuracy en test = {accuracy}\")\n",
        "\n",
        "    if accuracy > best_accuracy:\n",
        "        best_accuracy = accuracy\n",
        "        best_config = hidden_layer_config\n",
        "\n",
        "final_mlp = MLPClassifier(hidden_layer_sizes=best_config, max_iter=200, random_state=42)\n",
        "final_mlp.fit(x_train_flat, y_train)\n",
        "\n",
        "y_pred_test_final = final_mlp.predict(x_test_flat)\n",
        "accuracy_final = accuracy_score(y_test, y_pred_test_final)\n",
        "recall_final = recall_score(y_test, y_pred_test_final, average=None)\n",
        "\n",
        "print(\"Mejor configuración de capas y neuronas:\", best_config)\n",
        "print(\"Accuracy:\", accuracy_final)\n",
        "for class_idx, recall in enumerate(recall_final):\n",
        "    print(f\"Recall para la clase {class_idx}: {recall}\")"
      ]
    },
    {
      "cell_type": "markdown",
      "metadata": {
        "id": "UhgpVqOM_TqX"
      },
      "source": [
        "# Fotografías satelitales"
      ]
    },
    {
      "cell_type": "code",
      "execution_count": null,
      "metadata": {
        "id": "xf69gGVHEWnN"
      },
      "outputs": [],
      "source": [
        "#------------------------------------------------------------------------------------------------------------------\n",
        "#Load image files\n",
        "#------------------------------------------------------------------------------------------------------------------\n",
        "scale = 8\n",
        "img_width = int(1920/scale)\n",
        "img_height = int(1080/scale)\n",
        "\n",
        "paths = ['/content/drive/MyDrive/Semestre 5/Redes Neuronales/Biomas/Agua/', '/content/drive/MyDrive/Semestre 5/Redes Neuronales/Biomas/Bosque/', '/content/drive/MyDrive/Semestre 5/Redes Neuronales/Biomas/Ciudad/', '/content/drive/MyDrive/Semestre 5/Redes Neuronales/Biomas/Cultivo/', '/content/drive/MyDrive/Semestre 5/Redes Neuronales/Biomas/Desierto/', '/content/drive/MyDrive/Semestre 5/Redes Neuronales/Biomas/Montaña/']\n",
        "\n",
        "images = []\n",
        "labels = []\n",
        "for label, p in enumerate(paths):\n",
        "    files = [f for f in listdir(p) if isfile(join(p, f))]\n",
        "    for f in files:\n",
        "        print(\"Loading:\", p + f)\n",
        "        labels.append(label)\n",
        "        rgb = io.imread(p + f)\n",
        "        rgb_resized = resize(rgb, (img_height, img_width), anti_aliasing=True)\n",
        "        images.append(rgb_resized)\n",
        "\n",
        "\n",
        "n_img = len(images)\n",
        "labels = np.array(labels)"
      ]
    },
    {
      "cell_type": "code",
      "execution_count": null,
      "metadata": {
        "id": "un5_e6dFHQD3"
      },
      "outputs": [],
      "source": [
        "#------------------------------------------------------------------------------------------------------------------\n",
        "#   Color histograms\n",
        "#------------------------------------------------------------------------------------------------------------------\n",
        "nbins = 16\n",
        "hist_descriptor = []\n",
        "for rgb_resized in images:\n",
        "  rh = np.histogram(rgb_resized[:,:,0].flatten(), nbins, density = True)\n",
        "  gh = np.histogram(rgb_resized[:,:,1].flatten(), nbins, density = True)\n",
        "  bh = np.histogram(rgb_resized[:,:,2].flatten(), nbins, density = True)\n",
        "  hist_descriptor.append(np.concatenate((rh[0], gh[0], bh[0])))\n",
        "\n",
        "#------------------------------------------------------------------------------------------------------------------\n",
        "#   Texture descriptors\n",
        "#------------------------------------------------------------------------------------------------------------------\n",
        "texture_desc = []\n",
        "\n",
        "for rgb_resized in images:\n",
        "  gray_resized = img_as_ubyte(rgb2gray(rgb_resized))\n",
        "  glcm = graycomatrix(gray_resized, distances=[5], angles=[0, np.pi/4, np.pi/2, 3*np.pi/4])\n",
        "\n",
        "  texture_desc.append([graycoprops(glcm, 'dissimilarity')[0, 0], graycoprops(glcm, 'homogeneity')[0, 0], graycoprops(glcm, 'energy')[0, 0], graycoprops(glcm, 'correlation')[0, 0]])"
      ]
    },
    {
      "cell_type": "markdown",
      "metadata": {
        "id": "qLkPmWuTUGil"
      },
      "source": [
        "### Modelo lineal"
      ]
    },
    {
      "cell_type": "code",
      "execution_count": null,
      "metadata": {
        "id": "j-r7gGGkFCYU",
        "colab": {
          "base_uri": "https://localhost:8080/"
        },
        "outputId": "f39c4ab7-ded3-4933-fa60-4b97a6204f3f"
      },
      "outputs": [
        {
          "output_type": "stream",
          "name": "stdout",
          "text": [
            "Recall para la clase 0: 0.8656716417910447\n",
            "Recall para la clase 1: 0.8444444444444444\n",
            "Recall para la clase 2: 0.9375\n",
            "Recall para la clase 3: 0.7238805970149254\n",
            "Recall para la clase 4: 0.9011976047904192\n",
            "Recall para la clase 5: 0.8391812865497076\n",
            "Accuracy: 0.8567639257294429\n"
          ]
        }
      ],
      "source": [
        "x = np.concatenate((texture_desc, hist_descriptor), axis=1)\n",
        "\n",
        "linear_svm = SVC(kernel='linear')\n",
        "\n",
        "cv = StratifiedKFold(n_splits=5, shuffle=True, random_state=42)\n",
        "\n",
        "y_pred_svm_linear = cross_val_predict(linear_svm, x, labels, cv=cv)\n",
        "\n",
        "recall_per_class = recall_score(labels, y_pred_svm_linear, average=None)\n",
        "\n",
        "accuracy = accuracy_score(labels, y_pred_svm_linear)\n",
        "\n",
        "for class_idx, recall in enumerate(recall_per_class):\n",
        "    print(f\"Recall para la clase {class_idx}: {recall}\")\n",
        "\n",
        "print(\"Accuracy:\", accuracy)"
      ]
    },
    {
      "cell_type": "markdown",
      "metadata": {
        "id": "yQ7UeZ6FUIA6"
      },
      "source": [
        "### Modelo no lineal"
      ]
    },
    {
      "cell_type": "code",
      "execution_count": null,
      "metadata": {
        "id": "wkj9IHrURjAw",
        "colab": {
          "base_uri": "https://localhost:8080/"
        },
        "outputId": "5dbe862d-2fc2-4e6a-bdda-8cb33350acc5"
      },
      "outputs": [
        {
          "output_type": "stream",
          "name": "stdout",
          "text": [
            "Recall para la clase 0: 0.826865671641791\n",
            "Recall para la clase 1: 0.8185185185185185\n",
            "Recall para la clase 2: 0.9047619047619048\n",
            "Recall para la clase 3: 0.6119402985074627\n",
            "Recall para la clase 4: 0.9341317365269461\n",
            "Recall para la clase 5: 0.847953216374269\n",
            "Accuracy: 0.8318302387267904\n"
          ]
        }
      ],
      "source": [
        "linear_svm = SVC(kernel='rbf')\n",
        "\n",
        "cv = StratifiedKFold(n_splits=5, shuffle=True, random_state=42)\n",
        "\n",
        "y_pred_svm_linear = cross_val_predict(linear_svm, x, labels, cv=cv)\n",
        "\n",
        "recall_per_class = recall_score(labels, y_pred_svm_linear, average=None)\n",
        "\n",
        "accuracy = accuracy_score(labels, y_pred_svm_linear)\n",
        "\n",
        "for class_idx, recall in enumerate(recall_per_class):\n",
        "    print(f\"Recall para la clase {class_idx}: {recall}\")\n",
        "\n",
        "print(\"Accuracy:\", accuracy)"
      ]
    },
    {
      "cell_type": "markdown",
      "metadata": {
        "id": "Vtsce7t-kbaB"
      },
      "source": [
        "### Modelo Perceptron"
      ]
    },
    {
      "cell_type": "code",
      "execution_count": null,
      "metadata": {
        "id": "kdNEehTgTwI5",
        "colab": {
          "base_uri": "https://localhost:8080/"
        },
        "outputId": "d3876de9-73a2-4565-b87e-ea35b0839cdc"
      },
      "outputs": [
        {
          "output_type": "stream",
          "name": "stderr",
          "text": [
            "/usr/local/lib/python3.10/dist-packages/sklearn/neural_network/_multilayer_perceptron.py:686: ConvergenceWarning: Stochastic Optimizer: Maximum iterations (200) reached and the optimization hasn't converged yet.\n",
            "  warnings.warn(\n",
            "/usr/local/lib/python3.10/dist-packages/sklearn/neural_network/_multilayer_perceptron.py:686: ConvergenceWarning: Stochastic Optimizer: Maximum iterations (200) reached and the optimization hasn't converged yet.\n",
            "  warnings.warn(\n",
            "/usr/local/lib/python3.10/dist-packages/sklearn/neural_network/_multilayer_perceptron.py:686: ConvergenceWarning: Stochastic Optimizer: Maximum iterations (200) reached and the optimization hasn't converged yet.\n",
            "  warnings.warn(\n",
            "/usr/local/lib/python3.10/dist-packages/sklearn/neural_network/_multilayer_perceptron.py:686: ConvergenceWarning: Stochastic Optimizer: Maximum iterations (200) reached and the optimization hasn't converged yet.\n",
            "  warnings.warn(\n",
            "/usr/local/lib/python3.10/dist-packages/sklearn/neural_network/_multilayer_perceptron.py:686: ConvergenceWarning: Stochastic Optimizer: Maximum iterations (200) reached and the optimization hasn't converged yet.\n",
            "  warnings.warn(\n"
          ]
        },
        {
          "output_type": "stream",
          "name": "stdout",
          "text": [
            "Configuración (50,): Accuracy promedio en validación cruzada = 0.8742705570291777\n"
          ]
        },
        {
          "output_type": "stream",
          "name": "stderr",
          "text": [
            "/usr/local/lib/python3.10/dist-packages/sklearn/neural_network/_multilayer_perceptron.py:686: ConvergenceWarning: Stochastic Optimizer: Maximum iterations (200) reached and the optimization hasn't converged yet.\n",
            "  warnings.warn(\n",
            "/usr/local/lib/python3.10/dist-packages/sklearn/neural_network/_multilayer_perceptron.py:686: ConvergenceWarning: Stochastic Optimizer: Maximum iterations (200) reached and the optimization hasn't converged yet.\n",
            "  warnings.warn(\n",
            "/usr/local/lib/python3.10/dist-packages/sklearn/neural_network/_multilayer_perceptron.py:686: ConvergenceWarning: Stochastic Optimizer: Maximum iterations (200) reached and the optimization hasn't converged yet.\n",
            "  warnings.warn(\n",
            "/usr/local/lib/python3.10/dist-packages/sklearn/neural_network/_multilayer_perceptron.py:686: ConvergenceWarning: Stochastic Optimizer: Maximum iterations (200) reached and the optimization hasn't converged yet.\n",
            "  warnings.warn(\n",
            "/usr/local/lib/python3.10/dist-packages/sklearn/neural_network/_multilayer_perceptron.py:686: ConvergenceWarning: Stochastic Optimizer: Maximum iterations (200) reached and the optimization hasn't converged yet.\n",
            "  warnings.warn(\n"
          ]
        },
        {
          "output_type": "stream",
          "name": "stdout",
          "text": [
            "Configuración (100,): Accuracy promedio en validación cruzada = 0.8748010610079575\n"
          ]
        },
        {
          "output_type": "stream",
          "name": "stderr",
          "text": [
            "/usr/local/lib/python3.10/dist-packages/sklearn/neural_network/_multilayer_perceptron.py:686: ConvergenceWarning: Stochastic Optimizer: Maximum iterations (200) reached and the optimization hasn't converged yet.\n",
            "  warnings.warn(\n",
            "/usr/local/lib/python3.10/dist-packages/sklearn/neural_network/_multilayer_perceptron.py:686: ConvergenceWarning: Stochastic Optimizer: Maximum iterations (200) reached and the optimization hasn't converged yet.\n",
            "  warnings.warn(\n",
            "/usr/local/lib/python3.10/dist-packages/sklearn/neural_network/_multilayer_perceptron.py:686: ConvergenceWarning: Stochastic Optimizer: Maximum iterations (200) reached and the optimization hasn't converged yet.\n",
            "  warnings.warn(\n",
            "/usr/local/lib/python3.10/dist-packages/sklearn/neural_network/_multilayer_perceptron.py:686: ConvergenceWarning: Stochastic Optimizer: Maximum iterations (200) reached and the optimization hasn't converged yet.\n",
            "  warnings.warn(\n",
            "/usr/local/lib/python3.10/dist-packages/sklearn/neural_network/_multilayer_perceptron.py:686: ConvergenceWarning: Stochastic Optimizer: Maximum iterations (200) reached and the optimization hasn't converged yet.\n",
            "  warnings.warn(\n"
          ]
        },
        {
          "output_type": "stream",
          "name": "stdout",
          "text": [
            "Configuración (50, 50): Accuracy promedio en validación cruzada = 0.8716180371352785\n"
          ]
        },
        {
          "output_type": "stream",
          "name": "stderr",
          "text": [
            "/usr/local/lib/python3.10/dist-packages/sklearn/neural_network/_multilayer_perceptron.py:686: ConvergenceWarning: Stochastic Optimizer: Maximum iterations (200) reached and the optimization hasn't converged yet.\n",
            "  warnings.warn(\n",
            "/usr/local/lib/python3.10/dist-packages/sklearn/neural_network/_multilayer_perceptron.py:686: ConvergenceWarning: Stochastic Optimizer: Maximum iterations (200) reached and the optimization hasn't converged yet.\n",
            "  warnings.warn(\n",
            "/usr/local/lib/python3.10/dist-packages/sklearn/neural_network/_multilayer_perceptron.py:686: ConvergenceWarning: Stochastic Optimizer: Maximum iterations (200) reached and the optimization hasn't converged yet.\n",
            "  warnings.warn(\n",
            "/usr/local/lib/python3.10/dist-packages/sklearn/neural_network/_multilayer_perceptron.py:686: ConvergenceWarning: Stochastic Optimizer: Maximum iterations (200) reached and the optimization hasn't converged yet.\n",
            "  warnings.warn(\n",
            "/usr/local/lib/python3.10/dist-packages/sklearn/neural_network/_multilayer_perceptron.py:686: ConvergenceWarning: Stochastic Optimizer: Maximum iterations (200) reached and the optimization hasn't converged yet.\n",
            "  warnings.warn(\n"
          ]
        },
        {
          "output_type": "stream",
          "name": "stdout",
          "text": [
            "Configuración (100, 50): Accuracy promedio en validación cruzada = 0.8774535809018568\n"
          ]
        },
        {
          "output_type": "stream",
          "name": "stderr",
          "text": [
            "/usr/local/lib/python3.10/dist-packages/sklearn/neural_network/_multilayer_perceptron.py:686: ConvergenceWarning: Stochastic Optimizer: Maximum iterations (200) reached and the optimization hasn't converged yet.\n",
            "  warnings.warn(\n",
            "/usr/local/lib/python3.10/dist-packages/sklearn/neural_network/_multilayer_perceptron.py:686: ConvergenceWarning: Stochastic Optimizer: Maximum iterations (200) reached and the optimization hasn't converged yet.\n",
            "  warnings.warn(\n",
            "/usr/local/lib/python3.10/dist-packages/sklearn/neural_network/_multilayer_perceptron.py:686: ConvergenceWarning: Stochastic Optimizer: Maximum iterations (200) reached and the optimization hasn't converged yet.\n",
            "  warnings.warn(\n",
            "/usr/local/lib/python3.10/dist-packages/sklearn/neural_network/_multilayer_perceptron.py:686: ConvergenceWarning: Stochastic Optimizer: Maximum iterations (200) reached and the optimization hasn't converged yet.\n",
            "  warnings.warn(\n",
            "/usr/local/lib/python3.10/dist-packages/sklearn/neural_network/_multilayer_perceptron.py:686: ConvergenceWarning: Stochastic Optimizer: Maximum iterations (200) reached and the optimization hasn't converged yet.\n",
            "  warnings.warn(\n"
          ]
        },
        {
          "output_type": "stream",
          "name": "stdout",
          "text": [
            "Configuración (100, 100): Accuracy promedio en validación cruzada = 0.8769230769230769\n",
            "Mejor configuración de capas y neuronas: (100, 50)\n",
            "Accuracy promedio en validación cruzada: 0.8774535809018568\n",
            "Recall para la clase 0: 1.0\n",
            "Recall para la clase 1: 0.9962962962962963\n",
            "Recall para la clase 2: 0.9970238095238095\n",
            "Recall para la clase 3: 0.996268656716418\n",
            "Recall para la clase 4: 0.9970059880239521\n",
            "Recall para la clase 5: 0.9970760233918129\n"
          ]
        },
        {
          "output_type": "stream",
          "name": "stderr",
          "text": [
            "/usr/local/lib/python3.10/dist-packages/sklearn/neural_network/_multilayer_perceptron.py:686: ConvergenceWarning: Stochastic Optimizer: Maximum iterations (200) reached and the optimization hasn't converged yet.\n",
            "  warnings.warn(\n"
          ]
        }
      ],
      "source": [
        "hidden_layer_sizes_options = [(50,), (100,), (50, 50), (100, 50), (100, 100)]\n",
        "\n",
        "best_accuracy = 0\n",
        "best_config = None\n",
        "\n",
        "cv = StratifiedKFold(n_splits=5, shuffle=True, random_state=42)\n",
        "\n",
        "for hidden_layer_config in hidden_layer_sizes_options:\n",
        "    mlp = MLPClassifier(hidden_layer_sizes=hidden_layer_config, max_iter=200, random_state=42)\n",
        "\n",
        "    y_pred_cv = cross_val_predict(mlp, x, labels, cv=cv)\n",
        "\n",
        "    accuracy = accuracy_score(labels, y_pred_cv)\n",
        "\n",
        "    print(f\"Configuración {hidden_layer_config}: Accuracy promedio en validación cruzada = {accuracy}\")\n",
        "\n",
        "    if accuracy > best_accuracy:\n",
        "        best_accuracy = accuracy\n",
        "        best_config = hidden_layer_config\n",
        "\n",
        "final_mlp = MLPClassifier(hidden_layer_sizes=best_config, max_iter=200, random_state=42)\n",
        "final_mlp.fit(x, labels)\n",
        "\n",
        "y_pred_final = final_mlp.predict(x)\n",
        "\n",
        "recall_final = recall_score(labels, y_pred_final, average=None)\n",
        "\n",
        "print(\"Mejor configuración de capas y neuronas:\", best_config)\n",
        "print(\"Accuracy promedio en validación cruzada:\", best_accuracy)\n",
        "for class_idx, recall in enumerate(recall_final):\n",
        "    print(f\"Recall para la clase {class_idx}: {recall}\")"
      ]
    },
    {
      "cell_type": "markdown",
      "metadata": {
        "id": "Vxb94LTeVFOZ"
      },
      "source": [
        "# Imágenes de objetos"
      ]
    },
    {
      "cell_type": "code",
      "execution_count": null,
      "metadata": {
        "id": "NcDrVtf8j4Up"
      },
      "outputs": [],
      "source": [
        "#------------------------------------------------------------------------------------------------------------------\n",
        "#Load image files\n",
        "#------------------------------------------------------------------------------------------------------------------\n",
        "scale = 8\n",
        "img_width = int(1920/scale)\n",
        "img_height = int(1080/scale)\n",
        "\n",
        "paths = ['/content/drive/MyDrive/Semestre 5/Redes Neuronales/Imágenes SP/Celular/',\n",
        "         '/content/drive/MyDrive/Semestre 5/Redes Neuronales/Imágenes SP/Hats/',\n",
        "         '/content/drive/MyDrive/Semestre 5/Redes Neuronales/Imágenes SP/Lapiz/',\n",
        "         '/content/drive/MyDrive/Semestre 5/Redes Neuronales/Imágenes SP/Libro/',\n",
        "         '/content/drive/MyDrive/Semestre 5/Redes Neuronales/Imágenes SP/Shoes/']\n",
        "\n",
        "images = []\n",
        "labels = []\n",
        "for label, p in enumerate(paths):\n",
        "    files = [f for f in listdir(p) if isfile(join(p, f))]\n",
        "    for f in files:\n",
        "        print(\"Loading:\", p + f)\n",
        "        labels.append(label)\n",
        "        rgb = io.imread(p + f)\n",
        "        rgb_resized = resize(rgb, (img_height, img_width), anti_aliasing=True)\n",
        "        images.append(rgb_resized)\n",
        "\n",
        "\n",
        "n_img = len(images)\n",
        "labels = np.array(labels)\n",
        "\n",
        "#------------------------------------------------------------------------------------------------------------------\n",
        "#   Color histograms\n",
        "#------------------------------------------------------------------------------------------------------------------\n",
        "nbins = 16\n",
        "hist_descriptor = []\n",
        "for rgb_resized in images:\n",
        "  rh = np.histogram(rgb_resized[:,:,0].flatten(), nbins, density = True)\n",
        "  gh = np.histogram(rgb_resized[:,:,1].flatten(), nbins, density = True)\n",
        "  bh = np.histogram(rgb_resized[:,:,2].flatten(), nbins, density = True)\n",
        "  hist_descriptor.append(np.concatenate((rh[0], gh[0], bh[0])))\n",
        "\n",
        "#------------------------------------------------------------------------------------------------------------------\n",
        "#   Texture descriptors\n",
        "#------------------------------------------------------------------------------------------------------------------\n",
        "texture_desc = []\n",
        "\n",
        "for rgb_resized in images:\n",
        "  gray_resized = img_as_ubyte(rgb2gray(rgb_resized))\n",
        "  glcm = graycomatrix(gray_resized, distances=[5], angles=[0, np.pi/4, np.pi/2, 3*np.pi/4])\n",
        "\n",
        "  texture_desc.append([graycoprops(glcm, 'dissimilarity')[0, 0], graycoprops(glcm, 'homogeneity')[0, 0], graycoprops(glcm, 'energy')[0, 0], graycoprops(glcm, 'correlation')[0, 0]])"
      ]
    },
    {
      "cell_type": "markdown",
      "metadata": {
        "id": "uJmqmrjvkYbR"
      },
      "source": [
        "### Modelo lineal"
      ]
    },
    {
      "cell_type": "code",
      "execution_count": null,
      "metadata": {
        "id": "VopldPmZkRfA",
        "colab": {
          "base_uri": "https://localhost:8080/"
        },
        "outputId": "fbe68df0-c4d6-41e2-e115-3377f9090180"
      },
      "outputs": [
        {
          "output_type": "stream",
          "name": "stdout",
          "text": [
            "Recall para la clase 0: 0.984\n",
            "Recall para la clase 1: 0.994\n",
            "Recall para la clase 2: 1.0\n",
            "Recall para la clase 3: 1.0\n",
            "Recall para la clase 4: 0.998\n",
            "Accuracy: 0.9952\n"
          ]
        }
      ],
      "source": [
        "x = np.concatenate((texture_desc, hist_descriptor), axis=1)\n",
        "\n",
        "linear_svm = SVC(kernel='linear')\n",
        "\n",
        "cv = StratifiedKFold(n_splits=5, shuffle=True, random_state=42)\n",
        "\n",
        "y_pred_svm_linear = cross_val_predict(linear_svm, x, labels, cv=cv)\n",
        "\n",
        "recall_per_class = recall_score(labels, y_pred_svm_linear, average=None)\n",
        "\n",
        "accuracy = accuracy_score(labels, y_pred_svm_linear)\n",
        "\n",
        "for class_idx, recall in enumerate(recall_per_class):\n",
        "    print(f\"Recall para la clase {class_idx}: {recall}\")\n",
        "\n",
        "print(\"Accuracy:\", accuracy)\n"
      ]
    },
    {
      "cell_type": "markdown",
      "metadata": {
        "id": "qRNmn3X9kiDH"
      },
      "source": [
        "### Modelo no lineal"
      ]
    },
    {
      "cell_type": "code",
      "execution_count": null,
      "metadata": {
        "id": "fyZ2HBUokn1S",
        "colab": {
          "base_uri": "https://localhost:8080/"
        },
        "outputId": "cda2832a-81a1-488f-b71e-39e7d0e52ef2"
      },
      "outputs": [
        {
          "output_type": "stream",
          "name": "stdout",
          "text": [
            "Recall para la clase 0: 0.958\n",
            "Recall para la clase 1: 0.982\n",
            "Recall para la clase 2: 1.0\n",
            "Recall para la clase 3: 1.0\n",
            "Recall para la clase 4: 0.998\n",
            "Accuracy: 0.9876\n"
          ]
        }
      ],
      "source": [
        "linear_svm = SVC(kernel='rbf')\n",
        "\n",
        "cv = StratifiedKFold(n_splits=5, shuffle=True, random_state=42)\n",
        "\n",
        "y_pred_svm_linear = cross_val_predict(linear_svm, x, labels, cv=cv)\n",
        "\n",
        "recall_per_class = recall_score(labels, y_pred_svm_linear, average=None)\n",
        "\n",
        "accuracy = accuracy_score(labels, y_pred_svm_linear)\n",
        "\n",
        "for class_idx, recall in enumerate(recall_per_class):\n",
        "    print(f\"Recall para la clase {class_idx}: {recall}\")\n",
        "\n",
        "print(\"Accuracy:\", accuracy)"
      ]
    },
    {
      "cell_type": "markdown",
      "metadata": {
        "id": "u8dLKu1qkjae"
      },
      "source": [
        "### Modelo Percpetron"
      ]
    },
    {
      "cell_type": "code",
      "execution_count": null,
      "metadata": {
        "id": "jhz3Yehqkooi",
        "colab": {
          "base_uri": "https://localhost:8080/"
        },
        "outputId": "35a603ce-5bfc-4569-ca4d-0780e5d9fcd5"
      },
      "outputs": [
        {
          "output_type": "stream",
          "name": "stderr",
          "text": [
            "/usr/local/lib/python3.10/dist-packages/sklearn/neural_network/_multilayer_perceptron.py:686: ConvergenceWarning: Stochastic Optimizer: Maximum iterations (200) reached and the optimization hasn't converged yet.\n",
            "  warnings.warn(\n"
          ]
        },
        {
          "output_type": "stream",
          "name": "stdout",
          "text": [
            "Configuración (50,): Accuracy promedio en validación cruzada = 0.9964\n",
            "Configuración (100,): Accuracy promedio en validación cruzada = 0.9988\n",
            "Configuración (50, 50): Accuracy promedio en validación cruzada = 0.9988\n",
            "Configuración (100, 50): Accuracy promedio en validación cruzada = 0.9976\n",
            "Configuración (100, 100): Accuracy promedio en validación cruzada = 0.998\n",
            "Mejor configuración de capas y neuronas: (100,)\n",
            "Accuracy promedio en validación cruzada: 0.9988\n",
            "Recall para la clase 0: 1.0\n",
            "Recall para la clase 1: 1.0\n",
            "Recall para la clase 2: 1.0\n",
            "Recall para la clase 3: 1.0\n",
            "Recall para la clase 4: 1.0\n"
          ]
        }
      ],
      "source": [
        "hidden_layer_sizes_options = [(50,), (100,), (50, 50), (100, 50), (100, 100)]\n",
        "\n",
        "best_accuracy = 0\n",
        "best_config = None\n",
        "\n",
        "cv = StratifiedKFold(n_splits=5, shuffle=True, random_state=42)\n",
        "\n",
        "for hidden_layer_config in hidden_layer_sizes_options:\n",
        "    mlp = MLPClassifier(hidden_layer_sizes=hidden_layer_config, max_iter=200, random_state=42)\n",
        "\n",
        "    y_pred_cv = cross_val_predict(mlp, x, labels, cv=cv)\n",
        "\n",
        "    accuracy = accuracy_score(labels, y_pred_cv)\n",
        "\n",
        "    print(f\"Configuración {hidden_layer_config}: Accuracy promedio en validación cruzada = {accuracy}\")\n",
        "\n",
        "    if accuracy > best_accuracy:\n",
        "        best_accuracy = accuracy\n",
        "        best_config = hidden_layer_config\n",
        "\n",
        "final_mlp = MLPClassifier(hidden_layer_sizes=best_config, max_iter=200, random_state=42)\n",
        "final_mlp.fit(x, labels)\n",
        "\n",
        "y_pred_final = final_mlp.predict(x)\n",
        "\n",
        "recall_final = recall_score(labels, y_pred_final, average=None)\n",
        "\n",
        "print(\"Mejor configuración de capas y neuronas:\", best_config)\n",
        "print(\"Accuracy promedio en validación cruzada:\", best_accuracy)\n",
        "for class_idx, recall in enumerate(recall_final):\n",
        "    print(f\"Recall para la clase {class_idx}: {recall}\")"
      ]
    }
  ],
  "metadata": {
    "colab": {
      "provenance": []
    },
    "kernelspec": {
      "display_name": "Python 3",
      "name": "python3"
    },
    "language_info": {
      "name": "python"
    }
  },
  "nbformat": 4,
  "nbformat_minor": 0
}